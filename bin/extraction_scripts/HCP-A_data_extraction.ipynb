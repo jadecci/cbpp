{
 "cells": [
  {
   "cell_type": "code",
   "execution_count": 1,
   "id": "governing-representation",
   "metadata": {},
   "outputs": [],
   "source": [
    "import numpy as np\n",
    "import pandas as pd\n",
    "pd.set_option('display.width', 200)\n",
    "\n",
    "def add_data(in_file, col, sub_col, colname_old, colname_new, data):\n",
    "    coltypes = {'subjectkey': str, colname_old: float}\n",
    "    colnames = ['Sub_Key', colname_new]\n",
    "    data_curr = pd.read_table(in_file, sep='\\t', header=0, skiprows=[1], usecols=[sub_col, col], dtype=coltypes, names=colnames)\n",
    "    data_curr = data_curr.dropna().reset_index(drop=True).drop_duplicates(subset='Sub_Key')\n",
    "    if data.empty:\n",
    "        data = data_curr\n",
    "    else:\n",
    "        data = data.merge(data_curr, how='inner', on='Sub_Key')\n",
    "    \n",
    "    return data"
   ]
  },
  {
   "cell_type": "code",
   "execution_count": 6,
   "id": "historic-courtesy",
   "metadata": {},
   "outputs": [
    {
     "name": "stdout",
     "output_type": "stream",
     "text": [
      "(571, 43)\n"
     ]
    }
   ],
   "source": [
    "# Psychometric variables\n",
    "data = add_data('HCP-A/Package_1193170/cogcomp01.txt', 14, 4, 'nih_fluidcogcomp_ageadjusted', 'CogFluidComp_AgeAdj', pd.DataFrame())\n",
    "data = add_data('HCP-A/Package_1193170/nffi01.txt', 78, 4, 'neo2_score_op', 'NEOFAC_O', data)\n",
    "\n",
    "# Confounding variables\n",
    "data= add_data('HCP-A/Package_1193170/tlbx_motor01.txt', 22, 4, 'grip_standardsc_dom', 'Strength_Dom_Unadj', data)\n",
    "data = add_data('HCP-A/Package_1193170/tlbx_motor01.txt', 23, 4, 'grip_standardsc_nondom', 'Strength_NonDom_Unadj', data)\n",
    "data = add_data('HCP-A/Package_1193170/ssaga_cover_demo01.txt', 5, 4, 'interview_age', 'Age', data)\n",
    "data = add_data('HCP-A/Package_1193170/ssaga_cover_demo01.txt', 7, 4, 'sex', 'Sex', data)\n",
    "data = add_data('HCP-A/Package_1193170/edinburgh_hand01.txt', 70, 5, 'hcp_handedness_score', 'Handedness', data)\n",
    "data['Sex'] = pd.get_dummies(data['Sex']).astype(int)\n",
    "data = data.assign(Age2=np.power(data['Age'], 2))\n",
    "data = data.assign(SexAge=data['Sex']*data['Age'])\n",
    "data = data.assign(SexAge2=data['Sex'] * np.power(data['Age'], 2))\n",
    "\n",
    "# Remove 3 subjects with missing scans\n",
    "data.drop(index=data.loc[data['Sub_Key']=='HCA6010538'].index, inplace=True)\n",
    "data.drop(index=data.loc[data['Sub_Key']=='HCA6792190'].index, inplace=True)\n",
    "data.drop(index=data.loc[data['Sub_Key']=='HCA8239378'].index, inplace=True)\n",
    "\n",
    "# save outputs separately\n",
    "data[['CogFluidComp_AgeAdj', 'NEOFAC_O']].to_csv('HCP-A/HCP-A_AllComp.csv', index=None, header=None)"
   ]
  }
 ],
 "metadata": {
  "kernelspec": {
   "display_name": "Python 3",
   "language": "python",
   "name": "python3"
  },
  "language_info": {
   "codemirror_mode": {
    "name": "ipython",
    "version": 3
   },
   "file_extension": ".py",
   "mimetype": "text/x-python",
   "name": "python",
   "nbconvert_exporter": "python",
   "pygments_lexer": "ipython3",
   "version": "3.9.1"
  }
 },
 "nbformat": 4,
 "nbformat_minor": 5
}
